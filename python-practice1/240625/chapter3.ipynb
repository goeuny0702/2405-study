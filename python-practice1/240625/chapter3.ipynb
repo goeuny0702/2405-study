{
 "cells": [
  {
   "cell_type": "code",
   "execution_count": 7,
   "metadata": {},
   "outputs": [
    {
     "data": {
      "text/plain": [
       "'d:\\\\goeun\\\\python-practice1\\\\test1'"
      ]
     },
     "execution_count": 7,
     "metadata": {},
     "output_type": "execute_result"
    }
   ],
   "source": [
    "# 현재 위치 설정하기\n",
    "import os\n",
    "\n",
    "# 현재 위치 확인하기 python code\n",
    "os.getcwd()\n",
    "\n",
    "# 디렉토리 폴더 이동하기\n",
    "os.chdir(\"d:\\\\goeun\\\\python-practice1\\\\test1\")\n",
    "\n",
    "os.getcwd()"
   ]
  },
  {
   "cell_type": "code",
   "execution_count": 11,
   "metadata": {},
   "outputs": [
    {
     "name": "stdout",
     "output_type": "stream",
     "text": [
      "<class 'list'>\n",
      "['a.py', 'chapter3.ipynb']\n"
     ]
    }
   ],
   "source": [
    "# 디렉토리 폴더 안의 파일 확인하기\n",
    "\n",
    "os.listdir()\n",
    "\n",
    "os.chdir(\"d:\\\\goeun\\\\python-practice1\\\\240625\")\n",
    "\n",
    "folerFile = os.listdir()\n",
    "print(type(folerFile))\n",
    "print(folerFile)"
   ]
  },
  {
   "cell_type": "code",
   "execution_count": 12,
   "metadata": {},
   "outputs": [
    {
     "data": {
      "text/plain": [
       "3"
      ]
     },
     "execution_count": 12,
     "metadata": {},
     "output_type": "execute_result"
    }
   ],
   "source": [
    "# 파일 열고 닫기\n",
    "\n",
    "# 파일 열기 -> open('파일이름' , 파일 열기모드(r,w,a))\n",
    "# 파일 열고 내용쓰기 -> open('파일이름', 파일열기모드(r,w,a)).write(내용)\n",
    "# 파일 닫기 -> close()\n",
    "\n",
    "open('a.txt' , 'w').write('abc')"
   ]
  },
  {
   "cell_type": "code",
   "execution_count": 13,
   "metadata": {},
   "outputs": [
    {
     "data": {
      "text/plain": [
       "<_io.TextIOWrapper name='a.txt' mode='r' encoding='cp949'>"
      ]
     },
     "execution_count": 13,
     "metadata": {},
     "output_type": "execute_result"
    }
   ],
   "source": [
    "open('a.txt', 'r')"
   ]
  },
  {
   "cell_type": "code",
   "execution_count": 15,
   "metadata": {},
   "outputs": [
    {
     "data": {
      "text/plain": [
       "6"
      ]
     },
     "execution_count": 15,
     "metadata": {},
     "output_type": "execute_result"
    }
   ],
   "source": [
    "open('a.txt', 'w').write(\"242425\")"
   ]
  },
  {
   "cell_type": "code",
   "execution_count": 17,
   "metadata": {},
   "outputs": [
    {
     "data": {
      "text/plain": [
       "['이동민,2019', '최재영,2019', 'lion,2018']"
      ]
     },
     "execution_count": 17,
     "metadata": {},
     "output_type": "execute_result"
    }
   ],
   "source": [
    "# ['이동민,2019', '최재영,2019', 'lion,2018']\n",
    "import re\n",
    "# 정규표현식 모듈 re를 호출\n",
    "example = '이동민 교수님은 다음과 같이 설명했습니다.(이동민,2019). 그런데 다른 교수님은 이 문제에 대해서 다른 견해를 가지고 있었습니다.(최재영,2019). 또 다른 견해도 있었습니다(lion,2018)'\n",
    "result = re.findall(r'\\((.+?)\\)', example)\n",
    "result"
   ]
  },
  {
   "cell_type": "code",
   "execution_count": 23,
   "metadata": {},
   "outputs": [
    {
     "name": "stdout",
     "output_type": "stream",
     "text": [
      "<re.Match object; span=(0, 4), match='life'>\n",
      "None\n"
     ]
    }
   ],
   "source": [
    "# 문자열 안에서 패턴 찾기\n",
    "pattern = 'life'\n",
    "script = 'life'\n",
    "print(re.match(pattern, script)) # script 안에서 pattern을 찾기\n",
    "re.match(pattern, script).group()  # group() 메소드를 통해서 일치하는 내용을 반환\n",
    "\n",
    "script = 'animal'  \n",
    "print(re.match(pattern, script))     # animal에서 life를 찾을 수 없는 경우 none을 반환"
   ]
  },
  {
   "cell_type": "code",
   "execution_count": 25,
   "metadata": {},
   "outputs": [],
   "source": [
    "def refinder(pattern, script):\n",
    "    if re.match(pattern, script):\n",
    "        print('match!')\n",
    "    else:\n",
    "        print('Not a match!')"
   ]
  },
  {
   "cell_type": "code",
   "execution_count": 28,
   "metadata": {},
   "outputs": [
    {
     "name": "stdout",
     "output_type": "stream",
     "text": [
      "match!\n"
     ]
    }
   ],
   "source": [
    "pattern = 'Life'\n",
    "script = 'Life is so cool'\n",
    "refinder(pattern, script) # Match\n"
   ]
  },
  {
   "cell_type": "code",
   "execution_count": 30,
   "metadata": {},
   "outputs": [
    {
     "name": "stdout",
     "output_type": "stream",
     "text": [
      "Not a match!\n"
     ]
    }
   ],
   "source": [
    "pattern = 'life'  # 소문자\n",
    "script = 'Life is so cool'\n",
    "refinder(pattern, script) # Not a Match"
   ]
  },
  {
   "cell_type": "code",
   "execution_count": 32,
   "metadata": {},
   "outputs": [
    {
     "name": "stdout",
     "output_type": "stream",
     "text": [
      "Not a match!\n"
     ]
    }
   ],
   "source": [
    "pattern = 'is'    # 중간에 있는 문자는 매칭이 안됨\n",
    "script = 'Life is so cool'\n",
    "refinder(pattern, script) # Not a Match"
   ]
  },
  {
   "cell_type": "code",
   "execution_count": 34,
   "metadata": {},
   "outputs": [
    {
     "name": "stdout",
     "output_type": "stream",
     "text": [
      "Not a match!\n"
     ]
    },
    {
     "data": {
      "text/plain": [
       "'is'"
      ]
     },
     "execution_count": 34,
     "metadata": {},
     "output_type": "execute_result"
    }
   ],
   "source": [
    "pattern = 'is'\n",
    "script = 'Life is so cool'\n",
    "refinder(pattern, script) # Not a Match -> 문자열 시작부터 매칭되는 경우에 한함\n",
    "re.search(pattern, script).group()   # 문자열 전체에서 패턴을 찾기"
   ]
  },
  {
   "cell_type": "code",
   "execution_count": 36,
   "metadata": {},
   "outputs": [
    {
     "name": "stdout",
     "output_type": "stream",
     "text": [
      "Not a match!\n"
     ]
    },
    {
     "data": {
      "text/plain": [
       "'cool'"
      ]
     },
     "execution_count": 36,
     "metadata": {},
     "output_type": "execute_result"
    }
   ],
   "source": [
    "pattern = 'cool'\n",
    "script = 'Life is so cool'\n",
    "refinder(pattern, script) # Not a Match -> 문자열 시작부터 매칭되는 경우에 한함\n",
    "re.search(pattern, script).group()   # 문자열 전체에서 패턴을 찾기"
   ]
  },
  {
   "cell_type": "code",
   "execution_count": 42,
   "metadata": {},
   "outputs": [
    {
     "data": {
      "text/plain": [
       "'My number is 511233-1?????? and yours is 521012-2??????'"
      ]
     },
     "execution_count": 42,
     "metadata": {},
     "output_type": "execute_result"
    }
   ],
   "source": [
    "# 패턴을 모두 찾아 리스트로 반환 -> findall\n",
    "number = 'My number is 511233-1****** and yours is 521012-2******'\n",
    "re.findall(r'\\d{5}', number)\n",
    "\n",
    "number.replace('*', '?')"
   ]
  },
  {
   "cell_type": "code",
   "execution_count": 46,
   "metadata": {},
   "outputs": [
    {
     "name": "stdout",
     "output_type": "stream",
     "text": [
      "['91년에 태어났습니다. 97년에는 IMF가 있었습니다. 지금은 2020년']\n",
      "['91년', '97년', '2020년']\n",
      "['91년', '97년', '2020년']\n"
     ]
    }
   ],
   "source": [
    "# 정규표현식에서의 마침표(.)와물음표(?)는 탐욕을 뜻함\n",
    "# 마침표는 모든 문자를 뜻함(ex(0-9a-zA-Zㄱ-ㅎ))\n",
    "example = '저는 91년에 태어났습니다. 97년에는 IMF가 있었습니다. 지금은 2020년 입니다.'\n",
    "print(re.findall(r'\\d.+년', example))  #(\\d)는 숫자, (.)은 아무 문자, (+)는 반복\n",
    "print(re.findall(r'\\d.+?년', example))  #(\\d)는 숫자, (.)은 아무 문자, (?)은 1번 혹은 0번 문자(년), (+)는 반복\n",
    "print(re.findall(r'\\d+년', example)) #(\\d)는 숫자, (+) 반복 \n"
   ]
  },
  {
   "cell_type": "code",
   "execution_count": 52,
   "metadata": {},
   "outputs": [
    {
     "name": "stdout",
     "output_type": "stream",
     "text": [
      "['I havbe dog', ' really', ' I am not telling', ' What a pretty', ' I love this dog', '']\n",
      "['I havbe dog, really', ' I am not telling', ' What a pretty! I love this dog', '']\n",
      "['a', '3']\n",
      "['b', '4']\n",
      "['c', '5']\n"
     ]
    }
   ],
   "source": [
    "# 문장 나누는 패턴 만들기 -> re.split(패턴, 문자열)\n",
    "sentence = 'I havbe dog, really. I am not telling. What a pretty! I love this dog.'\n",
    "print(re.split(r'[.?!,]', sentence))\n",
    "print(re.split(r'[.]', sentence))\n",
    "# print(re.split(r'.', sentence))\n",
    "\n",
    "data = 'a:3; b:4; c:5'\n",
    "for i in re.split(r'; ', data):\n",
    "    print(re.split(r':', i))\n"
   ]
  },
  {
   "cell_type": "code",
   "execution_count": 54,
   "metadata": {},
   "outputs": [
    {
     "name": "stdout",
     "output_type": "stream",
     "text": [
      "I have cat, really. I am not tellng. What a pretty! I love this cat.\n",
      "I am home now. I am with my cat.\n"
     ]
    }
   ],
   "source": [
    "# 문자열 대치하기(substitute)\n",
    "sentence = 'I have dog, really. I am not tellng. What a pretty! I love this dog.'\n",
    "print(re.sub(r'dog', 'cat', sentence))\n",
    "\n",
    "words = 'I am home now. \\n\\n\\nI am with my cat.\\n\\n'\n",
    "print(re.sub(r'\\n', '', words))"
   ]
  },
  {
   "cell_type": "code",
   "execution_count": 57,
   "metadata": {},
   "outputs": [
    {
     "data": {
      "text/plain": [
       "['lovely', 'really']"
      ]
     },
     "execution_count": 57,
     "metadata": {},
     "output_type": "execute_result"
    }
   ],
   "source": [
    "# 문제1: 아래 문장에서 '1y'로 끝나는 단어만 추출하기\n",
    "sentence = 'I have a lovely dog, really. I am not tellng a lie'\n",
    "re.findall(r'\\w+ly', sentence)"
   ]
  },
  {
   "cell_type": "code",
   "execution_count": 65,
   "metadata": {},
   "outputs": [
    {
     "name": "stdout",
     "output_type": "stream",
     "text": [
      "apple\n",
      "arise\n",
      "above\n"
     ]
    }
   ],
   "source": [
    "# 1\n",
    "words = ['apple', 'cat', 'brave', 'drama', 'arise', 'blow', 'coat', 'above']\n",
    "for i in words:\n",
    "    m = re.match(r'a+\\D+', i)\n",
    "    if m:\n",
    "        print(m.group())"
   ]
  },
  {
   "cell_type": "code",
   "execution_count": 68,
   "metadata": {},
   "outputs": [
    {
     "data": {
      "text/plain": [
       "['greatking@naver.com', 'travel@daum.net', 'apple@gmail.com', 'life@abc.cp.kr']"
      ]
     },
     "execution_count": 68,
     "metadata": {},
     "output_type": "execute_result"
    }
   ],
   "source": [
    "# 2\n",
    "a = '제 이메일 주소는 greatking@naver.com입니다. 오늘 저는 travel@daum.net 라는 주소로 메일을 보내려고 합니다. 저는 apple@gmail.com, life@abc.cp.kr 라는 메일도 사용하고 있습니다'\n",
    "\n",
    "b = re.findall(r'[a-z]+@[a-z.]+', a)\n",
    "b"
   ]
  }
 ],
 "metadata": {
  "kernelspec": {
   "display_name": "Python 3",
   "language": "python",
   "name": "python3"
  },
  "language_info": {
   "codemirror_mode": {
    "name": "ipython",
    "version": 3
   },
   "file_extension": ".py",
   "mimetype": "text/x-python",
   "name": "python",
   "nbconvert_exporter": "python",
   "pygments_lexer": "ipython3",
   "version": "3.12.4"
  }
 },
 "nbformat": 4,
 "nbformat_minor": 2
}
