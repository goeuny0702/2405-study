{
 "cells": [
  {
   "cell_type": "code",
   "execution_count": 7,
   "metadata": {},
   "outputs": [
    {
     "name": "stdout",
     "output_type": "stream",
     "text": [
      "d:\\goeun\\python-practice1\\240626\n",
      "<_csv.reader object at 0x0000015620CCB340>\n",
      "['국어', '영어', '수학']\n",
      "<class 'list'>\n",
      "['90', '80', '100']\n",
      "<class 'list'>\n",
      "['국어', '영어', '수학']\n",
      "['90', '80', '100']\n",
      "a_list -> [['국어', '영어', '수학'], ['90', '80', '100']]\n"
     ]
    }
   ],
   "source": [
    "import csv, os\n",
    "\n",
    "print(os.getcwd())\n",
    "os.chdir(r'd:\\goeun\\python-practice1\\240626')\n",
    "\n",
    "f = open('a.csv', 'r', encoding='utf-8')  # 읽기 모드로 a.csv파일을 open\n",
    "new = csv.reader(f)\n",
    "print(new)\n",
    "for i in new:\n",
    "    print(i)\n",
    "    print(type(i))\n",
    "\n",
    "\n",
    "# 다시 csv 데이터 커서 위치를 처음 위치로 되돌려놓기\n",
    "f.seek(0)\n",
    "\n",
    "a_list = []\n",
    "for i in new:\n",
    "    print(i)\n",
    "    a_list.append(i)\n",
    "print('a_list ->', a_list)    \n",
    "\n"
   ]
  },
  {
   "cell_type": "code",
   "execution_count": 12,
   "metadata": {},
   "outputs": [],
   "source": [
    "def opencsv(filename):\n",
    "    f = open(filename, 'r', encoding='utf-8') # 읽기 모드로\n",
    "    reader = csv.reader(f)\n",
    "    output = []\n",
    "    for i in reader:\n",
    "        output.append(i)\n",
    "    return output"
   ]
  },
  {
   "cell_type": "code",
   "execution_count": 14,
   "metadata": {},
   "outputs": [
    {
     "data": {
      "text/plain": [
       "[['국어', '영어', '수학'], ['90', '80', '100']]"
      ]
     },
     "execution_count": 14,
     "metadata": {},
     "output_type": "execute_result"
    }
   ],
   "source": [
    "opencsv('a.csv')"
   ]
  },
  {
   "cell_type": "code",
   "execution_count": 9,
   "metadata": {},
   "outputs": [],
   "source": [
    "a = [\n",
    "    ['구', '전체', '내국인', '외국인'],\n",
    "    ['관악구', '123445', '473829', '999999'],\n",
    "    ['강남구', '444444', '555555', '999999'],\n",
    "    ['송파구', '777777', '383838', '848484'],\n",
    "    ['강동구', '384839', '394039', '772727']\n",
    "    ]\n",
    "\n",
    "f = open('abc.csv', 'w', encoding='utf-8', newline= '')   \n",
    "csv_object =  csv.writer(f, delimiter=',')\n",
    "csv_object.writerows(a)\n",
    "f.close()\n"
   ]
  },
  {
   "cell_type": "code",
   "execution_count": 13,
   "metadata": {},
   "outputs": [],
   "source": [
    "def writecsv(filename, the_list):\n",
    "    with open (filename, 'w', newline = '', encoding='utf-8') as f:\n",
    "        csv_object = csv.writer(f, delimiter=',')\n",
    "        csv_object.writerows(the_list)\n"
   ]
  },
  {
   "cell_type": "code",
   "execution_count": 15,
   "metadata": {},
   "outputs": [],
   "source": [
    "writecsv('abc.csv', a)"
   ]
  },
  {
   "cell_type": "code",
   "execution_count": 16,
   "metadata": {},
   "outputs": [
    {
     "name": "stdout",
     "output_type": "stream",
     "text": [
      "['구 ', ' 계   ', ' 한국인  ', ' 등록외국인  ', ' 고령자  ']\n",
      "['종로구', ' 152,212 ', ' 141,060 ', ' 11,152 ', ' 28,265 ']\n",
      "['중구', ' 131,390 ', ' 120,963 ', ' 10,427 ', ' 25,353 ']\n",
      "['용산구', ' 232,482 ', ' 217,756 ', ' 14,726 ', ' 39,478 ']\n",
      "['성동구', ' 287,240 ', ' 280,240 ', ' 7,000 ', ' 48,238 ']\n"
     ]
    }
   ],
   "source": [
    "import os\n",
    "import usecsv\n",
    "\n",
    "\n",
    "total = usecsv.opencsv(r'd:\\goeun\\python-practice1\\240626\\popSeoul2023.csv')\n",
    "for i in total[:5]:\n",
    "    print(i)"
   ]
  },
  {
   "cell_type": "code",
   "execution_count": 18,
   "metadata": {},
   "outputs": [
    {
     "name": "stdout",
     "output_type": "stream",
     "text": [
      "123.0\n",
      "123\n"
     ]
    }
   ],
   "source": [
    "i = '123'\n",
    "print(float(i))\n",
    "print(int(i))"
   ]
  },
  {
   "cell_type": "code",
   "execution_count": 19,
   "metadata": {},
   "outputs": [
    {
     "data": {
      "text/plain": [
       "152212.0"
      ]
     },
     "execution_count": 19,
     "metadata": {},
     "output_type": "execute_result"
    }
   ],
   "source": [
    "float('152,212'.replace(',', ''))"
   ]
  },
  {
   "cell_type": "code",
   "execution_count": 25,
   "metadata": {},
   "outputs": [
    {
     "name": "stdout",
     "output_type": "stream",
     "text": [
      "['종로구', ' 152,212 ', ' 141,060 ', ' 11,152 ', ' 28,265 ']\n",
      "['종로구', 152212.0, 141060.0, 11152.0, 28265.0]\n"
     ]
    }
   ],
   "source": [
    "import re\n",
    "\n",
    "i = total[1]   # ['종로구', ' 152,212 ', ' 141,060 ', ' 11,152 ', ' 28,265 ']\n",
    "print(i)\n",
    "\n",
    "k = []\n",
    "for j in i :\n",
    "    if re.search(r'\\d', j):\n",
    "        k.append(float(re.sub(',', '', j)))\n",
    "    else:\n",
    "        k.append(j)    \n",
    "\n",
    "print(k)        "
   ]
  },
  {
   "cell_type": "code",
   "execution_count": 30,
   "metadata": {},
   "outputs": [],
   "source": [
    "p = ['123강!!남', '151,767', '11.093', '27.394']"
   ]
  },
  {
   "cell_type": "code",
   "execution_count": 31,
   "metadata": {},
   "outputs": [
    {
     "name": "stdout",
     "output_type": "stream",
     "text": [
      "['123강!!남', 151767.0, 11.093, 27.394]\n"
     ]
    }
   ],
   "source": [
    "k = []\n",
    "for j in p:\n",
    "    if re.search(r'[a-z가-힣!]', j):\n",
    "        k.append(j)\n",
    "    else:\n",
    "        k.append(float(j.replace(',', '')))\n",
    "\n",
    "print(k)        "
   ]
  },
  {
   "cell_type": "code",
   "execution_count": 32,
   "metadata": {},
   "outputs": [
    {
     "name": "stdout",
     "output_type": "stream",
     "text": [
      "['123강!!남', 151767.0, 11.093, 27.394]\n"
     ]
    }
   ],
   "source": [
    "for j in p:\n",
    "    if re.search(r'[a-z가-힣!]', j):\n",
    "        p[p.index(j)] = j\n",
    "    else:\n",
    "        p[p.index(j)] = float(j.replace(',', ''))\n",
    "      \n",
    "print(p)"
   ]
  },
  {
   "cell_type": "code",
   "execution_count": 42,
   "metadata": {},
   "outputs": [
    {
     "name": "stdout",
     "output_type": "stream",
     "text": [
      "['123강!!남', 151767.0, 11.093, 27.394, '', '!!!!@#$']\n"
     ]
    }
   ],
   "source": [
    "i = ['123강!!남', '151,767', '11.093', '27.394', '', '!!!!@#$']\n",
    "\n",
    "for j in i:\n",
    "    if re.search(r'[a-z가-힣!]', j):\n",
    "        i[i.index(j)] = j\n",
    "    else:\n",
    "        try:\n",
    "            i[i.index(j)] = float(j.replace(',', ''))\n",
    "        except:\n",
    "            pass    \n",
    "\n",
    "\n",
    "for j in i:\n",
    "    try:\n",
    "        i[i.index(j)] = float(j.replace(',', ''))\n",
    "    except:\n",
    "        pass        \n",
    "\n",
    "print(i)        \n",
    "      "
   ]
  },
  {
   "cell_type": "code",
   "execution_count": 1,
   "metadata": {},
   "outputs": [
    {
     "data": {
      "text/plain": [
       "[['구 ', ' 계   ', ' 한국인  ', ' 등록외국인  ', ' 고령자  '],\n",
       " ['종로구', 152212.0, 141060.0, 11152.0, 28265.0],\n",
       " ['중구', 131390.0, 120963.0, 10427.0, 25353.0],\n",
       " ['용산구', 232482.0, 217756.0, 14726.0, 39478.0],\n",
       " ['성동구', 287240.0, 280240.0, 7000.0, 48238.0],\n",
       " ['광진구', 350925.0, 336801.0, 14124.0, 54854.0],\n",
       " ['동대문구', 354884.0, 337574.0, 17310.0, 65154.0],\n",
       " ['중랑구', 389928.0, 385003.0, 4925.0, 76116.0],\n",
       " ['성북구', 441855.0, 430100.0, 11755.0, 78427.0],\n",
       " ['강북구', 296934.0, 292762.0, 4172.0, 67056.0],\n",
       " ['도봉구', 312858.0, 310509.0, 2349.0, 68114.0],\n",
       " ['노원구', 506989.0, 502515.0, 4474.0, 93279.0],\n",
       " ['은평구', 468766.0, 464871.0, 3895.0, 90556.0],\n",
       " ['서대문구', 321966.0, 308437.0, 13529.0, 56785.0],\n",
       " ['마포구', 376542.0, 365570.0, 10972.0, 56582.0],\n",
       " ['양천구', 442345.0, 439219.0, 3126.0, 73522.0],\n",
       " ['강서구', 573711.0, 568287.0, 5424.0, 98659.0],\n",
       " ['구로구', 417983.0, 395183.0, 22800.0, 77259.0],\n",
       " ['금천구', 242467.0, 229307.0, 13160.0, 43772.0],\n",
       " ['영등포구', 398999.0, 376614.0, 22385.0, 66014.0],\n",
       " ['동작구', 390377.0, 380201.0, 10176.0, 68766.0],\n",
       " ['관악구', 502628.0, 487815.0, 14813.0, 83420.0],\n",
       " ['서초구', 408979.0, 404831.0, 4148.0, 63328.0],\n",
       " ['강남구', 537817.0, 532798.0, 5019.0, 83097.0],\n",
       " ['송파구', 663704.0, 658006.0, 5698.0, 105161.0],\n",
       " ['강동구', 464027.0, 459982.0, 4045.0, 79706.0]]"
      ]
     },
     "execution_count": 1,
     "metadata": {},
     "output_type": "execute_result"
    }
   ],
   "source": [
    "import usecsv\n",
    "import os\n",
    "\n",
    "os.chdir(r'd:\\goeun\\python-practice1\\240626')\n",
    "\n",
    "total = usecsv.opencsv(r'd:\\goeun\\python-practice1\\240626\\popSeoul2023.csv')\n",
    "usecsv.switch(total)"
   ]
  }
 ],
 "metadata": {
  "kernelspec": {
   "display_name": "Python 3",
   "language": "python",
   "name": "python3"
  },
  "language_info": {
   "codemirror_mode": {
    "name": "ipython",
    "version": 3
   },
   "file_extension": ".py",
   "mimetype": "text/x-python",
   "name": "python",
   "nbconvert_exporter": "python",
   "pygments_lexer": "ipython3",
   "version": "3.12.4"
  }
 },
 "nbformat": 4,
 "nbformat_minor": 2
}
