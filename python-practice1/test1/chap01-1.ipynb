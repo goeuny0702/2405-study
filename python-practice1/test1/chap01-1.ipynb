{
 "cells": [
  {
   "cell_type": "code",
   "execution_count": 1,
   "metadata": {},
   "outputs": [
    {
     "name": "stdout",
     "output_type": "stream",
     "text": [
      "0번째 인사(Hello World)\n",
      "1번째 인사(Hello World)\n",
      "2번째 인사(Hello World)\n",
      "3번째 인사(Hello World)\n",
      "4번째 인사(Hello World)\n",
      "5번째 인사(Hello World)\n",
      "6번째 인사(Hello World)\n",
      "7번째 인사(Hello World)\n",
      "8번째 인사(Hello World)\n",
      "9번째 인사(Hello World)\n"
     ]
    }
   ],
   "source": [
    "for i in range(10):\n",
    "\tprint(f'{i}번째 인사(Hello World)')"
   ]
  }
 ],
 "metadata": {
  "kernelspec": {
   "display_name": "Python 3",
   "language": "python",
   "name": "python3"
  },
  "language_info": {
   "codemirror_mode": {
    "name": "ipython",
    "version": 3
   },
   "file_extension": ".py",
   "mimetype": "text/x-python",
   "name": "python",
   "nbconvert_exporter": "python",
   "pygments_lexer": "ipython3",
   "version": "3.12.4"
  }
 },
 "nbformat": 4,
 "nbformat_minor": 2
}
