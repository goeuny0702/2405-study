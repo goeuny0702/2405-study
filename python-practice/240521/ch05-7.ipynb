{
 "cells": [
  {
   "cell_type": "code",
   "execution_count": 8,
   "metadata": {},
   "outputs": [
    {
     "name": "stdout",
     "output_type": "stream",
     "text": [
      "Audrey Lang\n",
      "이미숙\n",
      "경상북도 삼척시 석촌호수길\n",
      "정보통신관련 관리자\n",
      "minseogi@example.net\n"
     ]
    }
   ],
   "source": [
    "# 외부 라이브러리 faker 사용해 보기\n",
    "# 사전 작업 → pip install faker # 외부 라이브러리 Faker 설치\n",
    "\n",
    "from faker import Faker\n",
    "\n",
    "fake = Faker()\n",
    "print(fake.name())\n",
    "\n",
    "fake = Faker('ko-KR')\n",
    "print(fake.name())\n",
    "\n",
    "print(fake.address())\n",
    "print(fake.job())\n",
    "print(fake.email())"
   ]
  },
  {
   "cell_type": "code",
   "execution_count": null,
   "metadata": {},
   "outputs": [],
   "source": []
  }
 ],
 "metadata": {
  "kernelspec": {
   "display_name": "base",
   "language": "python",
   "name": "python3"
  },
  "language_info": {
   "codemirror_mode": {
    "name": "ipython",
    "version": 3
   },
   "file_extension": ".py",
   "mimetype": "text/x-python",
   "name": "python",
   "nbconvert_exporter": "python",
   "pygments_lexer": "ipython3",
   "version": "3.11.7"
  }
 },
 "nbformat": 4,
 "nbformat_minor": 2
}
