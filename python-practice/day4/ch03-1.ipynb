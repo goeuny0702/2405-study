{
 "cells": [
  {
   "cell_type": "code",
   "execution_count": 1,
   "metadata": {},
   "outputs": [
    {
     "name": "stdout",
     "output_type": "stream",
     "text": [
      "택시를 타고 가라\n"
     ]
    }
   ],
   "source": [
    "# if 제어문\n",
    "# '돈이 있으면 택시를 타고 가고, 돈이 없으면 걸어간다.'\n",
    "money = True\n",
    "\n",
    "if money :\n",
    "     print(\"택시를 타고 가라\")\n",
    "else :\n",
    "     print(\"걸어 가라\")"
   ]
  },
  {
   "cell_type": "code",
   "execution_count": 2,
   "metadata": {},
   "outputs": [
    {
     "name": "stdout",
     "output_type": "stream",
     "text": [
      "걸어 가라\n",
      "걸어가면 다리가 아파\n"
     ]
    }
   ],
   "source": [
    "money = False\n",
    "if money :\n",
    "     print(\"택시를 타고 가라\")\n",
    "     print(\"알겠어\")\n",
    "else :\n",
    "     print(\"걸어 가라\")\n",
    "     print(\"걸어가면 다리가 아파\")"
   ]
  },
  {
   "cell_type": "code",
   "execution_count": 8,
   "metadata": {},
   "outputs": [
    {
     "ename": "IndentationError",
     "evalue": "unexpected indent (418903301.py, line 7)",
     "output_type": "error",
     "traceback": [
      "\u001b[1;36m  Cell \u001b[1;32mIn[8], line 7\u001b[1;36m\u001b[0m\n\u001b[1;33m    print(\"가라\")\u001b[0m\n\u001b[1;37m    ^\u001b[0m\n\u001b[1;31mIndentationError\u001b[0m\u001b[1;31m:\u001b[0m unexpected indent\n"
     ]
    }
   ],
   "source": [
    "# 들여쓰기 방법 알아보기\n",
    "# error 케이스 1\n",
    "money = True\n",
    "if money:            # if문에 : 꼭 붙이기 **\n",
    "    print(\"택시를\")\n",
    "print(\"타고\")\n",
    "    print(\"가라\")"
   ]
  },
  {
   "cell_type": "code",
   "execution_count": 7,
   "metadata": {},
   "outputs": [
    {
     "ename": "IndentationError",
     "evalue": "unexpected indent (1446806395.py, line 6)",
     "output_type": "error",
     "traceback": [
      "\u001b[1;36m  Cell \u001b[1;32mIn[7], line 6\u001b[1;36m\u001b[0m\n\u001b[1;33m    print(\"가라\")\u001b[0m\n\u001b[1;37m    ^\u001b[0m\n\u001b[1;31mIndentationError\u001b[0m\u001b[1;31m:\u001b[0m unexpected indent\n"
     ]
    }
   ],
   "source": [
    "# error 케이스 2\n",
    "money = True\n",
    "if money:\n",
    "    print(\"택시를\")\n",
    "    print(\"타고\")\n",
    "     print(\"가라\")"
   ]
  },
  {
   "cell_type": "code",
   "execution_count": 9,
   "metadata": {},
   "outputs": [
    {
     "data": {
      "text/plain": [
       "False"
      ]
     },
     "execution_count": 9,
     "metadata": {},
     "output_type": "execute_result"
    }
   ],
   "source": [
    "x = 3\n",
    "y = 5\n",
    "x > y"
   ]
  },
  {
   "cell_type": "code",
   "execution_count": 11,
   "metadata": {},
   "outputs": [
    {
     "name": "stdout",
     "output_type": "stream",
     "text": [
      "True\n",
      "False\n",
      "True\n"
     ]
    }
   ],
   "source": [
    "print(x <= y)\n",
    "print(x == y)\n",
    "print(x < y)"
   ]
  },
  {
   "cell_type": "code",
   "execution_count": 14,
   "metadata": {},
   "outputs": [
    {
     "name": "stdout",
     "output_type": "stream",
     "text": [
      "택시를 타고 가라\n"
     ]
    }
   ],
   "source": [
    "# 만약 3000원 이상의 돈을 가지고 있으면 택시를 타고 가고, 그렇지 않으면 걸어가라.\n",
    "money = 4000    # money 변수는 돈을 가리킴\n",
    "if money >= 3000:\n",
    "    print(\"택시를 타고 가라\")\n",
    "else:\n",
    "    print(\"걸어 가라\")\n"
   ]
  },
  {
   "cell_type": "code",
   "execution_count": 16,
   "metadata": {},
   "outputs": [
    {
     "name": "stdout",
     "output_type": "stream",
     "text": [
      "택시를 타고 가라\n"
     ]
    }
   ],
   "source": [
    "# 논리 연산자 (and,or,not) 돈이 3000원이상 있거나 카드가 있으면 택시를 타고가라, 그렇지 않으면 걸어가라.\n",
    "money = 2000\n",
    "card = True\n",
    "if money >= 3000 or card:\n",
    "    print(\"택시를 타고 가라\")\n",
    "else:\n",
    "    print(\"걸어가라\")"
   ]
  },
  {
   "cell_type": "code",
   "execution_count": 17,
   "metadata": {},
   "outputs": [
    {
     "name": "stdout",
     "output_type": "stream",
     "text": [
      "True\n"
     ]
    }
   ],
   "source": [
    "# 문제1 아래 코드의 결과를 예상하라\n",
    "x = 4\n",
    "print(1 < x < 5)"
   ]
  },
  {
   "cell_type": "code",
   "execution_count": 18,
   "metadata": {},
   "outputs": [
    {
     "name": "stdout",
     "output_type": "stream",
     "text": [
      "True\n"
     ]
    }
   ],
   "source": [
    "print((3 == 3) and (4 != 3)) # true and true = true"
   ]
  },
  {
   "cell_type": "code",
   "execution_count": 22,
   "metadata": {},
   "outputs": [
    {
     "ename": "SyntaxError",
     "evalue": "invalid syntax (2479429329.py, line 1)",
     "output_type": "error",
     "traceback": [
      "\u001b[1;36m  Cell \u001b[1;32mIn[22], line 1\u001b[1;36m\u001b[0m\n\u001b[1;33m    print(3> = 4)\u001b[0m\n\u001b[1;37m             ^\u001b[0m\n\u001b[1;31mSyntaxError\u001b[0m\u001b[1;31m:\u001b[0m invalid syntax\n"
     ]
    }
   ],
   "source": [
    "# eror 사례 (정답: print(3 >= 4) 띄어쓰기 주의하기)\n",
    "print(3> = 4)\n",
    "print(3 => 4)"
   ]
  },
  {
   "cell_type": "code",
   "execution_count": 27,
   "metadata": {},
   "outputs": [
    {
     "name": "stdout",
     "output_type": "stream",
     "text": [
      "1\n",
      "2\n",
      "4\n"
     ]
    }
   ],
   "source": [
    "# 문제4 아래 코드의 결과를 예상하라\n",
    "\n",
    "if True:\n",
    "    print(\"1\")\n",
    "    print(\"2\")\n",
    "else:\n",
    "    print(\"3\")\n",
    "print(\"4\")"
   ]
  },
  {
   "cell_type": "code",
   "execution_count": 29,
   "metadata": {},
   "outputs": [
    {
     "name": "stdout",
     "output_type": "stream",
     "text": [
      "True\n",
      "False\n",
      "True\n",
      "True\n"
     ]
    }
   ],
   "source": [
    "# in / not in\n",
    "# x in 리스트\tx not in 리스트\n",
    "# x in 튜플\t    x not in 튜플\n",
    "# x in 문자열\tx not in 문자열\n",
    "\n",
    "print(1 in [1,4,5,7])\n",
    "print(9 not in [1,4,5,9])\n",
    "print('a' in ('a','b','c'))      # 문자열은 튜플 사용\n",
    "print('n' not in ('a','b','c'))"
   ]
  },
  {
   "cell_type": "code",
   "execution_count": 30,
   "metadata": {},
   "outputs": [
    {
     "name": "stdout",
     "output_type": "stream",
     "text": [
      "택시를 타고가라\n"
     ]
    }
   ],
   "source": [
    "# 주머니 안에 돈이 있으면 택시를 타고, 없으면 걸어가라\n",
    "pocket = ['paper', 'cellphone', 'money']\n",
    "if 'money' in pocket:\n",
    "    print(\"택시를 타고가라\")\n",
    "else:\n",
    "    print(\"걸어가라\")"
   ]
  },
  {
   "cell_type": "code",
   "execution_count": 31,
   "metadata": {},
   "outputs": [
    {
     "name": "stdout",
     "output_type": "stream",
     "text": [
      "택시를 타고가라\n"
     ]
    }
   ],
   "source": [
    "# 고은이는 카드가 있으면 택시를 타고 그렇지 않으면 걸어가라\n",
    "goeun = ['lip', 'card', 'money']\n",
    "if 'card' in goeun:\n",
    "    print('택시를 타고가라')\n",
    "else:\n",
    "    print('걸어가라')"
   ]
  },
  {
   "cell_type": "code",
   "execution_count": 32,
   "metadata": {},
   "outputs": [
    {
     "name": "stdout",
     "output_type": "stream",
     "text": [
      "돈을 꺼내라\n"
     ]
    }
   ],
   "source": [
    "# 주머니에 돈이 있으면 가만히 있고, 주머니에 돈이 없으면 카드를 꺼내라.\n",
    "pocket = ['card', 'flower']\n",
    "if 'money' in pocket:\n",
    "    pass\n",
    "else:\n",
    "    print(\"돈을 꺼내라\")"
   ]
  },
  {
   "cell_type": "code",
   "execution_count": 34,
   "metadata": {},
   "outputs": [
    {
     "name": "stdout",
     "output_type": "stream",
     "text": [
      "택시를 타고가라\n"
     ]
    }
   ],
   "source": [
    "# 다양한 조건을 판단하는 elif 함수\n",
    "# 주머니에 돈이 있으면 택시를 타고 가고, 주머니에 돈은 없지만 카드가 있으면 택시를 타고 가고, \n",
    "#돈도 없고 카드도 없으면 걸어가라.\n",
    "\n",
    "pocket = ['paper','cellphone']\n",
    "card = True\n",
    "if 'money' in pocket:\n",
    "    print('택시를 타고가라')\n",
    "else:\n",
    "    if card:\n",
    "        print('택시를 타고가라')\n",
    "    else:\n",
    "        print('걸어가라')\n"
   ]
  },
  {
   "cell_type": "code",
   "execution_count": 36,
   "metadata": {},
   "outputs": [
    {
     "name": "stdout",
     "output_type": "stream",
     "text": [
      "택시를 타고가라\n",
      "택시를 타고가라\n"
     ]
    }
   ],
   "source": [
    "poket = ['paper','cellphone']\n",
    "samsung_pay = True\n",
    "if 'money' in poket:\n",
    "    print('택시를 타고가라')\n",
    "elif card:\n",
    "    print('택시를 타고가라')\n",
    "elif samsung_pay:\n",
    "    print('택시를 타고가라')\n",
    "else:\n",
    "    print('걸어가라')\n",
    "\n",
    "\n",
    "if ('money' in pocket) or card or samsung_pay:\n",
    "    print('택시를 타고가라')\n",
    "else:\n",
    "    print('걸어가라')"
   ]
  },
  {
   "cell_type": "code",
   "execution_count": 37,
   "metadata": {},
   "outputs": [
    {
     "name": "stdout",
     "output_type": "stream",
     "text": [
      "걸어가라\n"
     ]
    }
   ],
   "source": [
    "# if문 한줄로 작성하기\n",
    "pocket = ['cellphone', 'flower', 'card']\n",
    "if 'money' in pocket: pass\n",
    "else:\n",
    "    print('걸어가라')"
   ]
  },
  {
   "cell_type": "code",
   "execution_count": 42,
   "metadata": {},
   "outputs": [],
   "source": [
    "# 조건부 표현식\n",
    "# score가 60 이상일 경우 message에 문자열 \"success\", 아닐 경우에는 문자열 \"failure\"를 대입\n",
    "\n",
    "score = 50\n",
    "if score >= 60:\n",
    "    message : \"success\"\n",
    "else:\n",
    "    message : \"failure\"\n"
   ]
  },
  {
   "cell_type": "code",
   "execution_count": 43,
   "metadata": {},
   "outputs": [],
   "source": [
    "# 변수 = 조건문이_참인_경우의_값 if 조건문 else 조건문이_거짓인_경우의_값\n",
    "score = 70\n",
    "message = \"success\" if score >= 60 else \"failure\""
   ]
  },
  {
   "cell_type": "code",
   "execution_count": 46,
   "metadata": {},
   "outputs": [
    {
     "name": "stdout",
     "output_type": "stream",
     "text": [
      "입력값 123\n",
      "<class 'str'>\n"
     ]
    }
   ],
   "source": [
    "# input함수\n",
    "user_input = input(\"입력값을 작성하세요\")\n",
    "print(\"입력값\", user_input)\n",
    "print(type(user_input))"
   ]
  },
  {
   "cell_type": "code",
   "execution_count": 48,
   "metadata": {},
   "outputs": [
    {
     "name": "stdout",
     "output_type": "stream",
     "text": [
      "안녕하세요안녕하세요\n"
     ]
    }
   ],
   "source": [
    "# 문제5\n",
    "# 사용자로부터 입력받은 문자열을 2번 출력하는 코드를 작성하시오.\n",
    "# ex) 안녕하세요\n",
    "\n",
    "user = input(\"입력하세요\")\n",
    "print(user * 2) "
   ]
  },
  {
   "cell_type": "code",
   "execution_count": 98,
   "metadata": {},
   "outputs": [
    {
     "data": {
      "text/plain": [
       "30"
      ]
     },
     "execution_count": 98,
     "metadata": {},
     "output_type": "execute_result"
    }
   ],
   "source": [
    "# 문제6\n",
    "user_input = input()\n",
    "user = int(user_input) + 10\n",
    "user"
   ]
  },
  {
   "cell_type": "code",
   "execution_count": 113,
   "metadata": {},
   "outputs": [
    {
     "name": "stdout",
     "output_type": "stream",
     "text": [
      "홀수\n"
     ]
    }
   ],
   "source": [
    "# 문제7\n",
    "user_input = input()\n",
    "user_input = int(user_input) % 2\n",
    "if user_input == 0:\n",
    "    print('짝수')\n",
    "else:\n",
    "    print('홀수')\n"
   ]
  },
  {
   "cell_type": "code",
   "execution_count": 140,
   "metadata": {},
   "outputs": [
    {
     "name": "stdout",
     "output_type": "stream",
     "text": [
      "255\n"
     ]
    }
   ],
   "source": [
    "# 문제8\n",
    "user_input = input()\n",
    "user_input = int(user_input) + 20\n",
    "if user_input >= 255:\n",
    "    print(\"255\")\n",
    "else:\n",
    "    print(user_input)\n"
   ]
  },
  {
   "cell_type": "code",
   "execution_count": 138,
   "metadata": {},
   "outputs": [
    {
     "name": "stdout",
     "output_type": "stream",
     "text": [
      "0\n"
     ]
    }
   ],
   "source": [
    "# 문제9\n",
    "user_input = input()\n",
    "user_input = int(user_input) - 20\n",
    "if 0 <= user_input <= 255:\n",
    "    print(user_input)\n",
    "elif 0 >= user_input:\n",
    "    print(\"0\")\n",
    "else:\n",
    "    print(\"255\")   \n",
    "    "
   ]
  },
  {
   "cell_type": "code",
   "execution_count": 130,
   "metadata": {},
   "outputs": [
    {
     "name": "stdout",
     "output_type": "stream",
     "text": [
      "정각이 아닙니다\n"
     ]
    }
   ],
   "source": [
    "# 문제10\n",
    "user_input = input()\n",
    "if user_input[3:] == \"00\":\n",
    "    print(\"정각입니다\")\n",
    "else:\n",
    "    print(\"정각이 아닙니다\")"
   ]
  },
  {
   "cell_type": "code",
   "execution_count": null,
   "metadata": {},
   "outputs": [],
   "source": []
  }
 ],
 "metadata": {
  "kernelspec": {
   "display_name": "base",
   "language": "python",
   "name": "python3"
  },
  "language_info": {
   "codemirror_mode": {
    "name": "ipython",
    "version": 3
   },
   "file_extension": ".py",
   "mimetype": "text/x-python",
   "name": "python",
   "nbconvert_exporter": "python",
   "pygments_lexer": "ipython3",
   "version": "3.11.7"
  }
 },
 "nbformat": 4,
 "nbformat_minor": 2
}
