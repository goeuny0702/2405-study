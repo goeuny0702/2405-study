{
 "cells": [
  {
   "cell_type": "code",
   "execution_count": 2,
   "metadata": {},
   "outputs": [
    {
     "name": "stdout",
     "output_type": "stream",
     "text": [
      "140734284743432\n",
      "140734284743464\n"
     ]
    }
   ],
   "source": [
    "# 자료형의 값을 저장하는 공간, 변수\n",
    "\n",
    "# int a = 0; # c와 java 문법\n",
    "a = 0 # python 문법\n",
    "print(id(a))\n",
    "\n",
    "b = 1\n",
    "print(id(b))"
   ]
  },
  {
   "cell_type": "code",
   "execution_count": 6,
   "metadata": {},
   "outputs": [
    {
     "name": "stdout",
     "output_type": "stream",
     "text": [
      "1229081026176\n",
      "1229081026176\n",
      "[1, 2, 3]\n",
      "[1, 2, 3]\n",
      "True\n",
      "True\n"
     ]
    }
   ],
   "source": [
    "# 리스트를 복사하고자 할 때\n",
    "a = [1,2,3]\n",
    "b = a         # 주소를 복사 (call by referance)\n",
    "\n",
    "print(id(a))\n",
    "print(id(b))\n",
    "\n",
    "print(a)\n",
    "print(b)\n",
    "\n",
    "print(a == b)\n",
    "print(a is b)\n"
   ]
  },
  {
   "cell_type": "code",
   "execution_count": 7,
   "metadata": {},
   "outputs": [
    {
     "name": "stdout",
     "output_type": "stream",
     "text": [
      "[1, 4, 3]\n",
      "[1, 4, 3]\n"
     ]
    }
   ],
   "source": [
    "a[1] = 4\n",
    "print(a) # [1,4,3]\n",
    "print(b) # b가 a의 값을 가리키고 있기 때문에 실제 b의 1인덱스의 값이 a와 동일하게 변함 (2 → 4)"
   ]
  },
  {
   "cell_type": "code",
   "execution_count": 9,
   "metadata": {},
   "outputs": [
    {
     "name": "stdout",
     "output_type": "stream",
     "text": [
      "[1, 2, 8]\n",
      "[1, 2, 3]\n"
     ]
    }
   ],
   "source": [
    "# 값에 의한 복사 (call by value)\n",
    "# 1. [:] 이용하기 # a리스트가 값을 바꾸더라도 b리스트에는 아무런 영향이 없다.\n",
    "a = [1,2,3]\n",
    "b = a[:]\n",
    "a[2] = 8\n",
    "print(a)\n",
    "print(b)"
   ]
  },
  {
   "cell_type": "code",
   "execution_count": 12,
   "metadata": {},
   "outputs": [
    {
     "name": "stdout",
     "output_type": "stream",
     "text": [
      "[8, 2, 3]\n",
      "[1, 2, 3]\n",
      "False\n"
     ]
    }
   ],
   "source": [
    "# 2. copy 모듈 이용하기\n",
    "from copy import copy\n",
    "\n",
    "a = [1,2,3]\n",
    "b = copy(a) # b = a[:]와 같다 / a가 리스트인 경우 사용\n",
    "\n",
    "a[0] = 8\n",
    "print(a)\n",
    "print(b)\n",
    "print(b is a)"
   ]
  },
  {
   "cell_type": "code",
   "execution_count": 13,
   "metadata": {},
   "outputs": [
    {
     "name": "stdout",
     "output_type": "stream",
     "text": [
      "[1, 4, 3]\n"
     ]
    }
   ],
   "source": [
    "# 문제1 아래 print(b) 했을 경우 어떤 값이 나올지 적어보시오\n",
    "a = b = [1,2,3] # 오른쪽부터 대입 > 대입 > 대입 시키기 때문에 주소로 복사됨\n",
    "a[1] = 4\n",
    "print(b)"
   ]
  },
  {
   "cell_type": "code",
   "execution_count": 17,
   "metadata": {},
   "outputs": [
    {
     "name": "stdout",
     "output_type": "stream",
     "text": [
      "python\n",
      "life\n",
      "python\n",
      "python\n",
      "5\n",
      "3\n"
     ]
    }
   ],
   "source": [
    "# 변수를 만드는 여러가지 방밥\n",
    "a,b = ('python', 'life')\n",
    "(a,b) = 'python', 'life'\n",
    "print(a)\n",
    "print(b)\n",
    "\n",
    "[a,b] = ['python', 'life']\n",
    "a = b = 'python'\n",
    "print(a) #python\n",
    "print(b) #python\n",
    "\n",
    "a = 3\n",
    "b =5\n",
    "a,b = b,a # swap\n",
    "print(a) # 5\n",
    "print(b) # 3"
   ]
  },
  {
   "cell_type": "code",
   "execution_count": null,
   "metadata": {},
   "outputs": [],
   "source": []
  }
 ],
 "metadata": {
  "kernelspec": {
   "display_name": "base",
   "language": "python",
   "name": "python3"
  },
  "language_info": {
   "codemirror_mode": {
    "name": "ipython",
    "version": 3
   },
   "file_extension": ".py",
   "mimetype": "text/x-python",
   "name": "python",
   "nbconvert_exporter": "python",
   "pygments_lexer": "ipython3",
   "version": "3.11.7"
  }
 },
 "nbformat": 4,
 "nbformat_minor": 2
}
