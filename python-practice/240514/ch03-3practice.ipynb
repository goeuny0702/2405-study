{
 "cells": [
  {
   "cell_type": "code",
   "execution_count": 58,
   "metadata": {},
   "outputs": [
    {
     "name": "stdout",
     "output_type": "stream",
     "text": [
      "*\n",
      "**\n",
      "***\n",
      "****\n",
      "*****\n"
     ]
    }
   ],
   "source": [
    "# for문 별 그리고 문제\n",
    "# 문제1 for문 혹은 이중 for문을 이용해서 아래와 같은 별을 그리는 코드를 만드시오\n",
    "# * 그리는 primt 함수안의 *은 무조건 1개만 그리기\n",
    "\n",
    "for a in range(1,6):\n",
    "    print('*' * a)\n",
    "\n",
    "\n",
    "# for a in range(5): # 0~4 > 1~5\n",
    "#   print(\" * \" * (a+1))"
   ]
  },
  {
   "cell_type": "code",
   "execution_count": 63,
   "metadata": {},
   "outputs": [
    {
     "name": "stdout",
     "output_type": "stream",
     "text": [
      "    *\n",
      "   **\n",
      "  ***\n",
      " ****\n",
      "*****\n"
     ]
    }
   ],
   "source": [
    "# 문제2 for문 혹은 이중 for문을 이용해서 아래와 같은 별을 그리는 코드를 만드시오\n",
    "\n",
    "for a in range(1,6):\n",
    "    print(\"%5s\" % (\"*\" * a))\n",
    "\n",
    "\n",
    "# for a in range(5):\n",
    "#     print(\" \" * (5 - (a + 1)) , end = \"\")\n",
    "#     print(\"*\" * (a+1))       "
   ]
  },
  {
   "cell_type": "code",
   "execution_count": 113,
   "metadata": {},
   "outputs": [
    {
     "name": "stdout",
     "output_type": "stream",
     "text": [
      "*****\n",
      "****\n",
      "***\n",
      "**\n",
      "*\n"
     ]
    }
   ],
   "source": [
    "# 문제3\n",
    "\n",
    "star = 5 # int(input(\"크기\")) > a에 이거 넣어도 가능.\n",
    "\n",
    "for a in range(star, 0, -1):\n",
    "    for b in range(a):\n",
    "        print(\"*\", end=\"\")\n",
    "    print()\n",
    "\n",
    "\n",
    "# for a in range(1,6):\n",
    "#     for b in range(6 - a):\n",
    "#         print(\"*\", end = \"\")\n",
    "#     for b in range(a): # a값에 따라 b가 변함 > 빈 공백 출력\n",
    "#         print(\" \", end = \"\")\n",
    "    "
   ]
  },
  {
   "cell_type": "code",
   "execution_count": 121,
   "metadata": {},
   "outputs": [
    {
     "name": "stdout",
     "output_type": "stream",
     "text": [
      "    *\n",
      "   ***\n",
      "  *****\n",
      " *******\n",
      "*********\n"
     ]
    }
   ],
   "source": [
    "# 문제4\n",
    "\n",
    "for i in range(1,6):\n",
    "    for j in range(5 - i):          # 줄 라인 i에 따라 빈 공백 출력\n",
    "        print(\" \", end = \"\")\n",
    "    for j in range(2 * i - 1):      # 홀수 개수만큼 * 출력\n",
    "        print(\"*\", end = \"\")\n",
    "    print()"
   ]
  },
  {
   "cell_type": "code",
   "execution_count": 7,
   "metadata": {},
   "outputs": [
    {
     "name": "stdout",
     "output_type": "stream",
     "text": [
      "32\n",
      "[33, 2, 44, 13, 14, 21]\n"
     ]
    }
   ],
   "source": [
    "# 문제5 숫자 1~45중 랜덤 숫자 6개를 중복없이 출력하시오.\n",
    "\n",
    "import random\n",
    "\n",
    "print(random.randint(1,45))\n",
    "\n",
    "a = []\n",
    "\n",
    "while True:\n",
    "    if len(a) == 6:\n",
    "        break\n",
    "    else:\n",
    "        a = []\n",
    "        for i in range(6):\n",
    "            a.append(random.randint(1,45))\n",
    "        a = list(set(a))\n",
    "\n",
    "        if len(a) < 6:\n",
    "            print(\"중복된 로또 번호의 리스트\" , a)\n",
    "\n",
    "print(a)\n"
   ]
  },
  {
   "cell_type": "code",
   "execution_count": null,
   "metadata": {},
   "outputs": [],
   "source": []
  }
 ],
 "metadata": {
  "kernelspec": {
   "display_name": "base",
   "language": "python",
   "name": "python3"
  },
  "language_info": {
   "codemirror_mode": {
    "name": "ipython",
    "version": 3
   },
   "file_extension": ".py",
   "mimetype": "text/x-python",
   "name": "python",
   "nbconvert_exporter": "python",
   "pygments_lexer": "ipython3",
   "version": "3.11.7"
  }
 },
 "nbformat": 4,
 "nbformat_minor": 2
}
