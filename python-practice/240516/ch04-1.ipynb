{
 "cells": [
  {
   "cell_type": "code",
   "execution_count": 3,
   "metadata": {},
   "outputs": [
    {
     "name": "stdout",
     "output_type": "stream",
     "text": [
      "hello world1\n"
     ]
    }
   ],
   "source": [
    "# 함수의 구조\n",
    "\n",
    "# 매개변수 생략 가능\n",
    "# return값도 생략 가능\n",
    "# def 함수_이름(매개변수)\n",
    "#     수행할_문장1\n",
    "#     수행할_문장2\n",
    "#      ...\n",
    "\n",
    "# 함수의 예\n",
    "\n",
    "def test1():                  # test1 함수를 정의하라\n",
    "    print(\"hello world1\")   \n",
    "\n",
    "test1()                       # test1 함수를 실행하라"
   ]
  },
  {
   "cell_type": "code",
   "execution_count": 4,
   "metadata": {},
   "outputs": [
    {
     "name": "stdout",
     "output_type": "stream",
     "text": [
      "hello world1\n",
      "hello world2\n"
     ]
    }
   ],
   "source": [
    "def test2():                 # test2 함수를 정의하라\n",
    "    print(\"hello world1\")\n",
    "    print(\"hello world2\")\n",
    "\n",
    "test2()                      # test2 함수를 실행하라"
   ]
  },
  {
   "cell_type": "code",
   "execution_count": 7,
   "metadata": {},
   "outputs": [
    {
     "name": "stdout",
     "output_type": "stream",
     "text": [
      "3\n",
      "7\n"
     ]
    }
   ],
   "source": [
    "def add(a,b):\n",
    "    return a + b\n",
    "\n",
    "c = add(1,2)\n",
    "print(c)\n",
    "\n",
    "a = 3\n",
    "b = 4\n",
    "c = add(a,b)   # add(3,4)의 리턴값을 c에 대입\n",
    "print(c)"
   ]
  },
  {
   "cell_type": "code",
   "execution_count": 8,
   "metadata": {},
   "outputs": [
    {
     "name": "stdout",
     "output_type": "stream",
     "text": [
      "7\n"
     ]
    }
   ],
   "source": [
    "# 일반적인 함수 모양\n",
    "def add(a,b):\n",
    "    result = a + b\n",
    "    return result\n",
    "\n",
    "# 번외 : camel case (영어에만) 대소문자 → A,a\n",
    "# 학생선생님 → studentTeacher (java, javascript, c++)\n",
    "\n",
    "# snake case\n",
    "# 리턴값을_받을_변수 = 함수_이름(입력_인수1, 입력_인수2, ...)\n",
    "a = add(3,4)\n",
    "print(a)"
   ]
  },
  {
   "cell_type": "code",
   "execution_count": 11,
   "metadata": {},
   "outputs": [
    {
     "name": "stdout",
     "output_type": "stream",
     "text": [
      "<function say at 0x0000028530485B20>\n",
      "\n",
      "hello world1\n",
      "None\n"
     ]
    }
   ],
   "source": [
    "# 입력값이 없는 함수\n",
    "def say():\n",
    "    return \"hi\"\n",
    "\n",
    "a = say\n",
    "print(a)\n",
    "\n",
    "print()\n",
    "\n",
    "b = test1()\n",
    "print(b) # none"
   ]
  },
  {
   "cell_type": "code",
   "execution_count": 12,
   "metadata": {},
   "outputs": [
    {
     "name": "stdout",
     "output_type": "stream",
     "text": [
      "3, 4의 합은 7 입니다.\n",
      "None\n"
     ]
    }
   ],
   "source": [
    "# 리턴값이 없는 함수\n",
    "def add(a,b):\n",
    "    print(\"%d, %d의 합은 %d 입니다.\" % (a, b, a+b))\n",
    "\n",
    "c = add(3,4)\n",
    "print(c)"
   ]
  },
  {
   "cell_type": "code",
   "execution_count": 15,
   "metadata": {},
   "outputs": [
    {
     "name": "stdout",
     "output_type": "stream",
     "text": [
      "hi\n"
     ]
    }
   ],
   "source": [
    "# 입력값도, 리턴값도 없는 함수(가장 간단한 함수)\n",
    "def say():\n",
    "    print('hi')\n",
    "\n",
    "say()"
   ]
  },
  {
   "cell_type": "code",
   "execution_count": 19,
   "metadata": {},
   "outputs": [
    {
     "name": "stdout",
     "output_type": "stream",
     "text": [
      "4\n",
      "4\n",
      "-3\n"
     ]
    }
   ],
   "source": [
    "# 매개변수를 지정하여 호출하기\n",
    "def sub(a,b):\n",
    "    return a - b\n",
    "\n",
    "result = sub(a=7, b=3) # a에 7, b에 3을 전달\n",
    "print(result)\n",
    "\n",
    "result = sub(b=3, a=7)\n",
    "print(result)          # 매개변수 지정 시 순서에 상관없이 사용 가능\n",
    "\n",
    "result = sub(b=5, a=2)\n",
    "print(result)"
   ]
  },
  {
   "cell_type": "code",
   "execution_count": 21,
   "metadata": {},
   "outputs": [
    {
     "name": "stdout",
     "output_type": "stream",
     "text": [
      "3\n",
      "6\n",
      "55\n"
     ]
    }
   ],
   "source": [
    "# 입력값이 몇 개가 될지 모를 때는 아래와 같이 선언 및 정의\n",
    "# def 함수_이름(*매개변수):\n",
    "#   수행할_문장\n",
    "#   ...\n",
    "\n",
    "def add_many(*u):\n",
    "    result = 0\n",
    "    for i in u :\n",
    "        result = result + i\n",
    "    return result\n",
    "    \n",
    "a = add_many(1,2)\n",
    "print(a)\n",
    "b = add_many(1,2,3)\n",
    "print(b)\n",
    "c = add_many(1,2,3,4,5,6,7,8,9,10)\n",
    "print(c)\n"
   ]
  },
  {
   "cell_type": "code",
   "execution_count": 28,
   "metadata": {},
   "outputs": [
    {
     "name": "stdout",
     "output_type": "stream",
     "text": [
      "15\n",
      "120\n",
      "aaa bbb\n"
     ]
    }
   ],
   "source": [
    "def add_mul(choice, *a):\n",
    "    if choice == \"add\":\n",
    "        result = 0\n",
    "        for i in a :\n",
    "            result = result + i\n",
    "    elif choice == \"mul\":\n",
    "        result = 1\n",
    "        for i in a :\n",
    "            result = result * i\n",
    "    return result\n",
    "\n",
    "\n",
    "result = add_mul('add', 1,2,3,4,5)  # add\n",
    "print(result)\n",
    "\n",
    "result = add_mul('mul', 1,2,3,4,5)  # mul\n",
    "print(result)\n",
    "\n",
    "def add_mul2(*a, choice):\n",
    "    pass\n",
    "\n",
    "print('aaa', 'bbb')"
   ]
  },
  {
   "cell_type": "code",
   "execution_count": 31,
   "metadata": {},
   "outputs": [
    {
     "name": "stdout",
     "output_type": "stream",
     "text": [
      "{'a': 1}\n",
      "{'name': 'foo', 'age': 3}\n"
     ]
    }
   ],
   "source": [
    "# 키워드 매개변수, kwargs (key와 value로 구성된 딕셔너리의 매개변수)\n",
    "def print_kwargs(**kwargs):\n",
    "    print(kwargs)\n",
    "\n",
    "print_kwargs(a=1)\n",
    "print_kwargs(name='foo', age=3)"
   ]
  },
  {
   "cell_type": "code",
   "execution_count": 33,
   "metadata": {},
   "outputs": [
    {
     "name": "stdout",
     "output_type": "stream",
     "text": [
      "<class 'tuple'>\n",
      "(7, 12)\n",
      "7\n",
      "12\n"
     ]
    }
   ],
   "source": [
    "# 함수의 리턴값은 언제나 하나의 자료형(리스트, 숫자형 etc)이다.\n",
    "def add_and_mul(a,b):\n",
    "    return a+b, a*b  # 리턴값은 튜플\n",
    "\n",
    "result = add_and_mul(3,4)\n",
    "print(type(result))\n",
    "print(result)\n",
    "\n",
    "result1, result2 = add_and_mul(3,4)\n",
    "print(result1)\n",
    "print(result2)\n",
    "  "
   ]
  },
  {
   "cell_type": "code",
   "execution_count": 36,
   "metadata": {},
   "outputs": [
    {
     "name": "stdout",
     "output_type": "stream",
     "text": [
      "5\n"
     ]
    }
   ],
   "source": [
    "def add_and_mul(a,b):\n",
    "    return a+b\n",
    "    return a*b                  # 실행이 되지않는다.\n",
    "    print(\"나오나? 안나옵니다\")\n",
    "\n",
    "result = add_and_mul(2,3)\n",
    "print(result) # 5"
   ]
  },
  {
   "cell_type": "code",
   "execution_count": 37,
   "metadata": {},
   "outputs": [
    {
     "name": "stdout",
     "output_type": "stream",
     "text": [
      "나의 별명은 슈퍼맨 입니다.\n",
      "나의 별명은 아이언맨 입니다.\n",
      "나의 별명은 앤트맨 입니다.\n"
     ]
    }
   ],
   "source": [
    "# return의 또 다른 쓰임새\n",
    "def say_nick(nick):\n",
    "    if nick == \"바보\":\n",
    "        return\n",
    "    print(\"나의 별명은 %s 입니다.\" % nick)\n",
    "\n",
    "say_nick(\"슈퍼맨\")\n",
    "say_nick(\"아이언맨\")\n",
    "say_nick(\"바보\")\n",
    "say_nick(\"앤트맨\")"
   ]
  },
  {
   "cell_type": "code",
   "execution_count": 42,
   "metadata": {},
   "outputs": [
    {
     "name": "stdout",
     "output_type": "stream",
     "text": [
      "나의 이름은 박응용 입니다.\n",
      "나이는 27살 입니다.\n",
      "남자입니다.\n",
      "국적은 한국 입니다.\n",
      "나의 이름은 박응용 입니다.\n",
      "나이는 27살 입니다.\n",
      "남자입니다.\n",
      "국적은 한국 입니다.\n",
      "나의 이름은 박응용 입니다.\n",
      "나이는 27살 입니다.\n",
      "여자입니다.\n",
      "국적은 한국 입니다.\n"
     ]
    }
   ],
   "source": [
    "# 매개변수에 초깃값 미리 설정하기\n",
    "# default1.py\n",
    "def say_myself(name, age, man = True, country = \"한국\"):\n",
    "    print(\"나의 이름은 %s 입니다.\" % name)\n",
    "    print(\"나이는 %d살 입니다.\" % age)\n",
    "    if man:\n",
    "        print(\"남자입니다.\")\n",
    "    else:\n",
    "        print(\"여자입니다.\")\n",
    "    print(\"국적은 %s 입니다.\" % country)\n",
    "\n",
    "say_myself(\"박응용\", 27)                # man의 매개변수가 true 로 설정\n",
    "say_myself(\"박응용\", 27, True)          # man의 매개변수가 true 로 overwrite\n",
    "say_myself(\"박응용\", 27, False)         # man의 매개변수가 false 로 overwrite\n"
   ]
  },
  {
   "cell_type": "code",
   "execution_count": 43,
   "metadata": {},
   "outputs": [
    {
     "ename": "SyntaxError",
     "evalue": "non-default argument follows default argument (2331095674.py, line 4)",
     "output_type": "error",
     "traceback": [
      "\u001b[1;36m  Cell \u001b[1;32mIn[43], line 4\u001b[1;36m\u001b[0m\n\u001b[1;33m    def say_myself(name, man = True, age)\u001b[0m\n\u001b[1;37m                                     ^\u001b[0m\n\u001b[1;31mSyntaxError\u001b[0m\u001b[1;31m:\u001b[0m non-default argument follows default argument\n"
     ]
    }
   ],
   "source": [
    "# 매개변수에 포깃값 미리 설정 시에 주의할 점\n",
    "# default2.py\n",
    "\n",
    "def say_myself(name, man = True, age)\n",
    "    print(\"나의 이름은 %s 입니다.\" % name)\n",
    "    print(\"나이는 %s 입니다.\" % age)\n",
    "    if man:\n",
    "        print(\"남자입니다.\")\n",
    "    else:\n",
    "        print(\"여자입니다.\")\n",
    "\n",
    "    # say_myself(\"박응용\",27) # error"
   ]
  },
  {
   "cell_type": "code",
   "execution_count": 44,
   "metadata": {},
   "outputs": [
    {
     "name": "stdout",
     "output_type": "stream",
     "text": [
      "3\n"
     ]
    }
   ],
   "source": [
    "# 함수 안에서 선언한 변수의 효력 범위\n",
    "\n",
    "a - 1\n",
    "def vartest(a):\n",
    "    a = a + 1  # a가 1일 경우 함수 안의 a는 2가 됨\n",
    "\n",
    "vartest(a) # a에 1이 들어감\n",
    "print(a)   # 함수 밖의 a의 값이 들어감. 즉 1이 됨"
   ]
  },
  {
   "cell_type": "code",
   "execution_count": 49,
   "metadata": {},
   "outputs": [
    {
     "ename": "NameError",
     "evalue": "name 'z1' is not defined",
     "output_type": "error",
     "traceback": [
      "\u001b[1;31m---------------------------------------------------------------------------\u001b[0m",
      "\u001b[1;31mNameError\u001b[0m                                 Traceback (most recent call last)",
      "Cell \u001b[1;32mIn[49], line 8\u001b[0m\n\u001b[0;32m      5\u001b[0m     z1 \u001b[38;5;241m=\u001b[39m z1 \u001b[38;5;241m+\u001b[39m \u001b[38;5;241m1\u001b[39m\n\u001b[0;32m      7\u001b[0m vartest(\u001b[38;5;241m3\u001b[39m)  \u001b[38;5;66;03m# error가 아니다.\u001b[39;00m\n\u001b[1;32m----> 8\u001b[0m \u001b[38;5;28mprint\u001b[39m(z1)\n",
      "\u001b[1;31mNameError\u001b[0m: name 'z1' is not defined"
     ]
    }
   ],
   "source": [
    "# error.py\n",
    "\n",
    "# z1 = 0 을 넣으면 error가 아님\n",
    "def vartest(z1):\n",
    "    z1 = z1 + 1\n",
    "\n",
    "# z1 = 0\n",
    "vartest(3)  # error가 아니다.\n",
    "print(z1)    # error이다."
   ]
  },
  {
   "cell_type": "code",
   "execution_count": 50,
   "metadata": {},
   "outputs": [
    {
     "name": "stdout",
     "output_type": "stream",
     "text": [
      "2\n"
     ]
    }
   ],
   "source": [
    "# 함수 안에서 함수 밖의 변수를 변경하는 방법 → 비추천\n",
    "# 1. return 사용하기\n",
    "# vartest_return,py\n",
    "a = 1              # 함수 밖의 변수 a\n",
    "def vartest(a):    # 함수 안의 변수 a\n",
    "    a = a + 1\n",
    "    return a\n",
    "\n",
    "a = vartest(a)      # a = 2\n",
    "print(a)            # 2"
   ]
  },
  {
   "cell_type": "code",
   "execution_count": 51,
   "metadata": {},
   "outputs": [
    {
     "name": "stdout",
     "output_type": "stream",
     "text": [
      "2\n"
     ]
    }
   ],
   "source": [
    "# z. global 명령어 사용하기 → 비추천\n",
    "# vartest_grobal.py\n",
    "z2 = 1\n",
    "def vartest():\n",
    "    global z2 # 함수 밖의 z2 변수를 가리킴\n",
    "    z2 = z2 + 1\n",
    "\n",
    "vartest()\n",
    "print(z2)"
   ]
  },
  {
   "cell_type": "code",
   "execution_count": 54,
   "metadata": {},
   "outputs": [
    {
     "name": "stdout",
     "output_type": "stream",
     "text": [
      "16\n"
     ]
    }
   ],
   "source": [
    "# lamda 예약어\n",
    "# 함수_이름 = lamda 매개변수1, 매개변수2, ... : 매개변수를 이용한 표현식\n",
    "add = lambda a,b : a+b   # add라는 람다 함수 생성\n",
    "result = add(7,9)  # 람다 사용 시 () 사용\n",
    "print(result)"
   ]
  },
  {
   "cell_type": "code",
   "execution_count": 73,
   "metadata": {},
   "outputs": [
    {
     "data": {
      "text/plain": [
       "7"
      ]
     },
     "execution_count": 73,
     "metadata": {},
     "output_type": "execute_result"
    }
   ],
   "source": [
    "# 문제1\n",
    "def average(number1,number2):\n",
    "    result = number1 + number2\n",
    "    return result\n",
    "\n",
    "average(1,6)"
   ]
  },
  {
   "cell_type": "code",
   "execution_count": 56,
   "metadata": {},
   "outputs": [
    {
     "name": "stdout",
     "output_type": "stream",
     "text": [
      "1\n",
      "2\n",
      "3\n"
     ]
    }
   ],
   "source": [
    "# 문제2\n",
    "\n",
    "def print_list(num_list):\n",
    "    for n in num_list:\n",
    "        if (n != 0):\n",
    "            print(n)\n",
    "        else:\n",
    "            break\n",
    "\n",
    "print_list([1,2,3,0])"
   ]
  },
  {
   "cell_type": "code",
   "execution_count": 110,
   "metadata": {},
   "outputs": [
    {
     "name": "stdout",
     "output_type": "stream",
     "text": [
      "가장 높은 점수: 100\n",
      "가장 높은 점수: 91\n",
      "가장 낮은 점수: 81\n"
     ]
    }
   ],
   "source": [
    "# 문제3\n",
    "korean, english, mathematics, science = 100, 86, 81, 91\n",
    "\n",
    "def get_max_score(*scores):\n",
    "    return max(scores)\n",
    "\n",
    "def get_min_score(*scores):\n",
    "    init1 = scores[0]\n",
    "    for item in scores:\n",
    "        if init1 > item: # 기존값보다 item이 작으면\n",
    "            init1 = item # 작은 값으로 init1 대체\n",
    "\n",
    "    return init1\n",
    "\n",
    "max_score = get_max_score(korean, english, mathematics, science)\n",
    "print(\"가장 높은 점수:\",max_score)  # 가장 높은 점수 100점\n",
    "\n",
    "max_score = get_max_score(english, science)\n",
    "print(\"가장 높은 점수:\",max_score)  # 가장 높은 점수 91점\n",
    "\n",
    "min_score = get_min_score(korean, english, mathematics, science)\n",
    "print(\"가장 낮은 점수:\",min_score) # 가장 낮은 점수 81점\n"
   ]
  },
  {
   "cell_type": "code",
   "execution_count": 108,
   "metadata": {},
   "outputs": [
    {
     "name": "stdout",
     "output_type": "stream",
     "text": [
      "6\n",
      "24\n",
      "120\n"
     ]
    }
   ],
   "source": [
    "# 문제4\n",
    "def factorial(x):\n",
    "    result = 1\n",
    "    for i in range(1, x + 1): # 1 ~ x\n",
    "        result = result * i   # x * (x - 1) ... * i\n",
    "\n",
    "    return result\n",
    "\n",
    "print(factorial(3))\n",
    "print(factorial(4))\n",
    "print(factorial(5))\n",
    "\n"
   ]
  },
  {
   "cell_type": "code",
   "execution_count": 150,
   "metadata": {},
   "outputs": [
    {
     "name": "stdout",
     "output_type": "stream",
     "text": [
      "춘천 까지의 금액은 5000 입니다.\n"
     ]
    }
   ],
   "source": [
    "# 문제5\n",
    "\n",
    "def cost(city): \n",
    "    dic = {'춘천':5000, '부산':30000, '대구':10000, '수원':2000}\n",
    "\n",
    "    if city in dic:\n",
    "        #return dic.get(city)    # return dic(city)\n",
    "        print(city,\"까지의 금액은\", dic[city],\"입니다.\")\n",
    "   \n",
    "\n",
    "\n",
    "\n",
    "city = input('춘천(운임 : 5000원) / 부산(운임 : 30000원) / 대구(운임 : 10000원) / 수원(운임 : 2000원) \\n중 한곳을 입력하세요.')\n",
    "cost(city)\n",
    "\n",
    "\n"
   ]
  },
  {
   "cell_type": "code",
   "execution_count": 142,
   "metadata": {},
   "outputs": [
    {
     "name": "stdout",
     "output_type": "stream",
     "text": [
      "출근이 불가합니다.\n"
     ]
    }
   ],
   "source": [
    "# 문제6\n",
    "\n",
    "def check(name):\n",
    "    list = ['suzi', 'jisu', 'jennie', 'rose', 'lisa']\n",
    "\n",
    "    if name in list:\n",
    "        print(\"출근이 완료되었습니다\")\n",
    "    else:\n",
    "        print(\"출근이 불가합니다.\")\n",
    "\n",
    "name = input(\"이름을 입력하세요\")\n",
    "check(name)"
   ]
  },
  {
   "cell_type": "code",
   "execution_count": 123,
   "metadata": {},
   "outputs": [
    {
     "name": "stdout",
     "output_type": "stream",
     "text": [
      "18\n"
     ]
    }
   ],
   "source": [
    "# 문제7\n",
    "def circle(a,b):\n",
    "    return (a+b) * 2\n",
    "\n",
    "print(circle(3,6))\n"
   ]
  },
  {
   "cell_type": "code",
   "execution_count": null,
   "metadata": {},
   "outputs": [],
   "source": []
  }
 ],
 "metadata": {
  "kernelspec": {
   "display_name": "base",
   "language": "python",
   "name": "python3"
  },
  "language_info": {
   "codemirror_mode": {
    "name": "ipython",
    "version": 3
   },
   "file_extension": ".py",
   "mimetype": "text/x-python",
   "name": "python",
   "nbconvert_exporter": "python",
   "pygments_lexer": "ipython3",
   "version": "3.11.7"
  }
 },
 "nbformat": 4,
 "nbformat_minor": 2
}
